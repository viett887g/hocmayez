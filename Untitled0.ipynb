{
  "nbformat": 4,
  "nbformat_minor": 0,
  "metadata": {
    "colab": {
      "provenance": [],
      "collapsed_sections": [],
      "mount_file_id": "1ibHXqHVEfcQo4cq1ZWbMwJvQe3tMRv2V",
      "authorship_tag": "ABX9TyPkr0CNbLMgQWthNvl+DvWz",
      "include_colab_link": true
    },
    "kernelspec": {
      "name": "python3",
      "display_name": "Python 3"
    },
    "language_info": {
      "name": "python"
    }
  },
  "cells": [
    {
      "cell_type": "markdown",
      "metadata": {
        "id": "view-in-github",
        "colab_type": "text"
      },
      "source": [
        "<a href=\"https://colab.research.google.com/github/viett887g/hocmayez/blob/main/Untitled0.ipynb\" target=\"_parent\"><img src=\"https://colab.research.google.com/assets/colab-badge.svg\" alt=\"Open In Colab\"/></a>"
      ]
    },
    {
      "cell_type": "code",
      "execution_count": 1,
      "metadata": {
        "id": "y2IojRgorE8u",
        "colab": {
          "base_uri": "https://localhost:8080/"
        },
        "outputId": "d00a94d1-7f62-42c4-a72b-e4af623df171"
      },
      "outputs": [
        {
          "output_type": "stream",
          "name": "stdout",
          "text": [
            "Drive already mounted at /content/drive; to attempt to forcibly remount, call drive.mount(\"/content/drive\", force_remount=True).\n"
          ]
        }
      ],
      "source": [
        "import os\n",
        "import numpy as np\n",
        "from google.colab import drive\n",
        "drive.mount('/content/drive')\n",
        "import pandas as pd\n"
      ]
    },
    {
      "cell_type": "code",
      "source": [
        "data=\"/content/drive/MyDrive/New Text Document.txt\"\n",
        "data = pd.read_csv(\"/content/drive/MyDrive/New Text Document.txt\")\n",
        "print(data)"
      ],
      "metadata": {
        "id": "yLWTgQ4kSk9w",
        "colab": {
          "base_uri": "https://localhost:8080/"
        },
        "outputId": "5bb4863c-d4fc-48ef-faf7-3fd61290837c"
      },
      "execution_count": 2,
      "outputs": [
        {
          "output_type": "stream",
          "name": "stdout",
          "text": [
            "     6.1101    17.592\n",
            "0    5.5277   9.13020\n",
            "1    8.5186  13.66200\n",
            "2    7.0032  11.85400\n",
            "3    5.8598   6.82330\n",
            "4    8.3829  11.88600\n",
            "..      ...       ...\n",
            "91   5.8707   7.20290\n",
            "92   5.3054   1.98690\n",
            "93   8.2934   0.14454\n",
            "94  13.3940   9.05510\n",
            "95   5.4369   0.61705\n",
            "\n",
            "[96 rows x 2 columns]\n"
          ]
        }
      ]
    },
    {
      "cell_type": "code",
      "source": [
        "y = data.iloc[:,1]\n"
      ],
      "metadata": {
        "id": "KS8DhItP8LQi"
      },
      "execution_count": null,
      "outputs": []
    },
    {
      "cell_type": "code",
      "source": [
        "X = data.iloc[:,:-1]\n"
      ],
      "metadata": {
        "id": "tvF3VO937p_D"
      },
      "execution_count": null,
      "outputs": []
    },
    {
      "cell_type": "code",
      "source": [
        "def readData(folder, filename):\n",
        "  data=np.loadtxt(os.path.join(folder,filename),delimiter=',')\n",
        "  X = data[:,0]\n",
        "  print(X)\n",
        "  y= data[:,1]\n",
        "  print(y)\n",
        "  m = y.shape[0]\n",
        "  X = np.stack([np.ones(m), X], axis=1)\n",
        "  print(X)\n",
        "\n",
        "#readData('/content/drive/MyDrive','New Text Document.txt')\n"
      ],
      "metadata": {
        "id": "rx5NX0MlR2y_"
      },
      "execution_count": null,
      "outputs": []
    },
    {
      "cell_type": "code",
      "source": [
        "def mean_squared_error(act, pred):\n",
        "\n",
        "   diff = pred - act\n",
        "   differences_squared = diff ** 2\n",
        "   mean_diff = differences_squared.mean()\n",
        "   \n",
        "   return mean_diff\n",
        "\n",
        "act = np.array([1.1,2,1.7])\n",
        "pred = np.array([1,1.7,1.5])\n",
        "\n",
        "print(mean_squared_error(act,pred))"
      ],
      "metadata": {
        "colab": {
          "base_uri": "https://localhost:8080/"
        },
        "id": "5jgV3n_h6LOT",
        "outputId": "6e2f987e-3c53-48c4-d888-eec4fa4faf7d"
      },
      "execution_count": null,
      "outputs": [
        {
          "output_type": "stream",
          "name": "stdout",
          "text": [
            "0.04666666666666667\n"
          ]
        }
      ]
    },
    {
      "cell_type": "code",
      "source": [
        "def computeLoss(X, y):\n",
        "    k=y-X\n",
        "    m=k**2\n",
        "    mean_diff = m.mean()\n",
        "    \n",
        "    return mean_diff\n",
        "\n",
        "    #j=0\n",
        "    #h=np.dot(X,w)\n",
        "    \n",
        "    #J = (1/(2*m))*np.sum(np.square(h - y))\n",
        "    #return J\n",
        "computeLoss(X,y)\n"
      ],
      "metadata": {
        "id": "nyLTdMdrVFDe",
        "colab": {
          "base_uri": "https://localhost:8080/"
        },
        "outputId": "f48fd91f-a341-4244-e26e-f2d3584e0209"
      },
      "execution_count": null,
      "outputs": [
        {
          "output_type": "execute_result",
          "data": {
            "text/plain": [
              "6.1101   NaN\n",
              "0        NaN\n",
              "1        NaN\n",
              "2        NaN\n",
              "3        NaN\n",
              "          ..\n",
              "91       NaN\n",
              "92       NaN\n",
              "93       NaN\n",
              "94       NaN\n",
              "95       NaN\n",
              "Length: 97, dtype: float64"
            ]
          },
          "metadata": {},
          "execution_count": 41
        }
      ]
    },
    {
      "cell_type": "code",
      "source": [
        "def gradientDescent(X, y, w, alpha, n):\n",
        "    m = y.shape[0]\n",
        "    J_history = []\n",
        "    w_optimal = w.copy()\n",
        "    print('w_optimal shape: ', w_optimal.shape)\n",
        "    for i in range(n):\n",
        "        w_optimal = w_optimal - (alpha/m)*(np.dot(X, w_optimal) - y).dot(X)\n",
        "        J_history.append(computeLoss(X, y, w_optimal))\n",
        "    return w_optimal, J_history"
      ],
      "metadata": {
        "id": "wdelsbsKWGLG"
      },
      "execution_count": null,
      "outputs": []
    },
    {
      "cell_type": "code",
      "source": [
        "import os\n",
        "import numpy as np\n",
        "from matplotlib import pyplot as plt\n",
        "\n",
        "def readData(folder, filename):\n",
        "    data = np.loadtxt(os.path.join(folder, filename), delimiter=',')\n",
        "    print('Original data shape', data.shape)\n",
        "    X = data[:,0]\n",
        "    print('X shape: ', X.shape)\n",
        "    y = data[:,1]\n",
        "    print('y shape: ', y.shape)\n",
        "    m = y.shape[0]\n",
        "    print('Number of training examples m = ', m)\n",
        "    X = np.stack([np.ones(m), X], axis=1)\n",
        "    print('Modified X shape: ', X.shape)\n",
        "    return X, y\n",
        "\n",
        "def computeLoss(X, y, w):\n",
        "    m = y.shape[0]\n",
        "    J = 0\n",
        "    h = np.dot(X, w)\n",
        "    J = (1/(2*m))*np.sum(np.square(h - y))\n",
        "    return J\n",
        "\n",
        "def gradientDescent(X, y, w, alpha, n):\n",
        "    m = y.shape[0]\n",
        "    J_history = []\n",
        "    w_optimal = w.copy()\n",
        "    print('w_optimal shape: ', w_optimal.shape)\n",
        "    for i in range(n):\n",
        "        w_optimal = w_optimal - (alpha/m)*(np.dot(X, w_optimal) - y).dot(X)\n",
        "        J_history.append(computeLoss(X, y, w_optimal))\n",
        "    return w_optimal, J_history\n",
        "\n",
        "def visualizeDataAndModel(X, y, w_optimal):\n",
        "    fig = plt.figure()\n",
        "    plt.plot(X[:,1], y, 'g^')\n",
        "    plt.plot(X[:, 1], np.dot(X, w_optimal), 'r-')\n",
        "    plt.legend(['Raw Data', 'Linear regression'])\n",
        "    plt.ylabel('Profit in $10,000')\n",
        "    plt.xlabel('Population of City in 10,000s')\n",
        "    plt.show()\n",
        "\n",
        "def main():\n",
        "    w = np.zeros(2)\n",
        "    n = 1500\n",
        "    alpha = 0.01\n",
        "    X, y = readData(\"/content/drive/MyDrive\", \"New Text Document.txt\")\n",
        "    w, J_history = gradientDescent(X, y, w, alpha, n)\n",
        "    print(\"Optimal weights are: \", w)\n",
        "    print(\"Loss function: \", J_history[-1])\n",
        "    visualizeDataAndModel(X, y, w)\n",
        "\n",
        "if __name__ == '__main__':\n",
        "    main()"
      ],
      "metadata": {
        "colab": {
          "base_uri": "https://localhost:8080/",
          "height": 419
        },
        "id": "UynYi-Gwevcp",
        "outputId": "f79f0d7a-0a19-4b70-85bc-87bd62f75b0b"
      },
      "execution_count": 3,
      "outputs": [
        {
          "output_type": "stream",
          "name": "stdout",
          "text": [
            "Original data shape (97, 2)\n",
            "X shape:  (97,)\n",
            "y shape:  (97,)\n",
            "Number of training examples m =  97\n",
            "Modified X shape:  (97, 2)\n",
            "w_optimal shape:  (2,)\n",
            "Optimal weights are:  [-3.63029144  1.16636235]\n",
            "Loss function:  4.483388256587725\n"
          ]
        },
        {
          "output_type": "display_data",
          "data": {
            "text/plain": [
              "<Figure size 432x288 with 1 Axes>"
            ],
            "image/png": "[encoded data removed]"
          },
          "metadata": {
            "needs_background": "light"
          }
        }
      ]
    }
  ]
}